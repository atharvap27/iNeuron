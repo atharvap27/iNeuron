{
 "cells": [
  {
   "cell_type": "code",
   "execution_count": 38,
   "metadata": {},
   "outputs": [
    {
     "name": "stdout",
     "output_type": "stream",
     "text": [
      "x is3\n",
      "y is4\n",
      "z is5\n",
      "area of triangle with inputs 3.0,4.0, 5.0 = 6.0\n"
     ]
    }
   ],
   "source": [
    "class triangle:\n",
    "    def __init__(self,x,y,z):\n",
    "        self.x=float(x)\n",
    "        self.y=float(y)\n",
    "        self.z=float(z)\n",
    "x=int(input('x is'))\n",
    "y=int(input('y is'))\n",
    "z=int(input('z is'))\n",
    "\n",
    "class area(triangle):\n",
    "    def get_area(self):\n",
    "        s=(x+y+z)/2\n",
    "        return (s*(s-x)*(s-y)*(s-z)) ** 0.5\n",
    "    \n",
    "t=area(x,y,z)\n",
    "print(\"area of triangle with inputs {},{}, {} = {}\".format(t.x,t.y,t.z,t.get_area()))     "
   ]
  },
  {
   "cell_type": "code",
   "execution_count": 39,
   "metadata": {},
   "outputs": [],
   "source": [
    "def filter_long_words(list_of_words,number):\n",
    "    return [word for word in list_of_word if len(word) > number]"
   ]
  },
  {
   "cell_type": "code",
   "execution_count": 40,
   "metadata": {},
   "outputs": [],
   "source": [
    "def len_words(list_words):\n",
    "    return [len(word)for word in list_words]"
   ]
  },
  {
   "cell_type": "code",
   "execution_count": 41,
   "metadata": {},
   "outputs": [
    {
     "data": {
      "text/plain": [
       "[2, 3, 4]"
      ]
     },
     "execution_count": 41,
     "metadata": {},
     "output_type": "execute_result"
    }
   ],
   "source": [
    "len_words([ 'ab','cde','erty'])"
   ]
  },
  {
   "cell_type": "code",
   "execution_count": 42,
   "metadata": {},
   "outputs": [],
   "source": [
    "def vowel(letter):\n",
    "    vowels=['a','e','i','o','u']\n",
    "    if letter in vowels:\n",
    "        return True\n",
    "    else:\n",
    "        return False\n",
    "   \n",
    "    "
   ]
  }
 ],
 "metadata": {
  "kernelspec": {
   "display_name": "Python 3",
   "language": "python",
   "name": "python3"
  },
  "language_info": {
   "codemirror_mode": {
    "name": "ipython",
    "version": 3
   },
   "file_extension": ".py",
   "mimetype": "text/x-python",
   "name": "python",
   "nbconvert_exporter": "python",
   "pygments_lexer": "ipython3",
   "version": "3.8.5"
  }
 },
 "nbformat": 4,
 "nbformat_minor": 4
}
